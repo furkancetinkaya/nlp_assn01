{
 "cells": [
  {
   "cell_type": "code",
   "execution_count": null,
   "metadata": {},
   "outputs": [],
   "source": [
    "# Prerequisities\n",
    "!pip install --upgrade --user sklearn\n",
    "!pip install --upgrade --user pandas\n",
    "!pip install --upgrade --user numpy\n",
    "!pip install --upgrade --user spacy\n",
    "\n",
    "!python -m spacy download en_core_web_md   # Trained word vector"
   ]
  },
  {
   "cell_type": "code",
   "execution_count": 119,
   "metadata": {},
   "outputs": [],
   "source": [
    "import pandas as pd\n",
    "import numpy as np\n",
    "from spacy.vectors import Vectors\n",
    "from sklearn.decomposition import TruncatedSVD\n",
    "from sklearn.metrics.pairwise import cosine_similarity\n",
    "\n",
    "web_ds = spacy.load('en_core_web_md')\n",
    "corpus = pd.read_csv('t_bbe.csv')"
   ]
  },
  {
   "cell_type": "code",
   "execution_count": 120,
   "metadata": {},
   "outputs": [
    {
     "data": {
      "text/html": [
       "<div>\n",
       "<style scoped>\n",
       "    .dataframe tbody tr th:only-of-type {\n",
       "        vertical-align: middle;\n",
       "    }\n",
       "\n",
       "    .dataframe tbody tr th {\n",
       "        vertical-align: top;\n",
       "    }\n",
       "\n",
       "    .dataframe thead th {\n",
       "        text-align: right;\n",
       "    }\n",
       "</style>\n",
       "<table border=\"1\" class=\"dataframe\">\n",
       "  <thead>\n",
       "    <tr style=\"text-align: right;\">\n",
       "      <th></th>\n",
       "      <th>id</th>\n",
       "      <th>b</th>\n",
       "      <th>c</th>\n",
       "      <th>v</th>\n",
       "      <th>t</th>\n",
       "    </tr>\n",
       "  </thead>\n",
       "  <tbody>\n",
       "    <tr>\n",
       "      <th>0</th>\n",
       "      <td>1001001</td>\n",
       "      <td>1</td>\n",
       "      <td>1</td>\n",
       "      <td>1</td>\n",
       "      <td>At the first God made the heaven and the earth.</td>\n",
       "    </tr>\n",
       "    <tr>\n",
       "      <th>1</th>\n",
       "      <td>1001002</td>\n",
       "      <td>1</td>\n",
       "      <td>1</td>\n",
       "      <td>2</td>\n",
       "      <td>And the earth was waste and without form; and ...</td>\n",
       "    </tr>\n",
       "    <tr>\n",
       "      <th>2</th>\n",
       "      <td>1001003</td>\n",
       "      <td>1</td>\n",
       "      <td>1</td>\n",
       "      <td>3</td>\n",
       "      <td>And God said, Let there be light: and there wa...</td>\n",
       "    </tr>\n",
       "    <tr>\n",
       "      <th>3</th>\n",
       "      <td>1001004</td>\n",
       "      <td>1</td>\n",
       "      <td>1</td>\n",
       "      <td>4</td>\n",
       "      <td>And God, looking on the light, saw that it was...</td>\n",
       "    </tr>\n",
       "    <tr>\n",
       "      <th>4</th>\n",
       "      <td>1001005</td>\n",
       "      <td>1</td>\n",
       "      <td>1</td>\n",
       "      <td>5</td>\n",
       "      <td>Naming the light, Day, and the dark, Night. An...</td>\n",
       "    </tr>\n",
       "    <tr>\n",
       "      <th>...</th>\n",
       "      <td>...</td>\n",
       "      <td>...</td>\n",
       "      <td>...</td>\n",
       "      <td>...</td>\n",
       "      <td>...</td>\n",
       "    </tr>\n",
       "    <tr>\n",
       "      <th>31098</th>\n",
       "      <td>66022017</td>\n",
       "      <td>66</td>\n",
       "      <td>22</td>\n",
       "      <td>17</td>\n",
       "      <td>And the Spirit and the bride say, Come. And le...</td>\n",
       "    </tr>\n",
       "    <tr>\n",
       "      <th>31099</th>\n",
       "      <td>66022018</td>\n",
       "      <td>66</td>\n",
       "      <td>22</td>\n",
       "      <td>18</td>\n",
       "      <td>For I say to every man to whose ears have come...</td>\n",
       "    </tr>\n",
       "    <tr>\n",
       "      <th>31100</th>\n",
       "      <td>66022019</td>\n",
       "      <td>66</td>\n",
       "      <td>22</td>\n",
       "      <td>19</td>\n",
       "      <td>And if any man takes away from the words of th...</td>\n",
       "    </tr>\n",
       "    <tr>\n",
       "      <th>31101</th>\n",
       "      <td>66022020</td>\n",
       "      <td>66</td>\n",
       "      <td>22</td>\n",
       "      <td>20</td>\n",
       "      <td>He who gives witness to these things says, Tru...</td>\n",
       "    </tr>\n",
       "    <tr>\n",
       "      <th>31102</th>\n",
       "      <td>66022021</td>\n",
       "      <td>66</td>\n",
       "      <td>22</td>\n",
       "      <td>21</td>\n",
       "      <td>The grace of the Lord Jesus be with the saints...</td>\n",
       "    </tr>\n",
       "  </tbody>\n",
       "</table>\n",
       "<p>31103 rows × 5 columns</p>\n",
       "</div>"
      ],
      "text/plain": [
       "             id   b   c   v                                                  t\n",
       "0       1001001   1   1   1    At the first God made the heaven and the earth.\n",
       "1       1001002   1   1   2  And the earth was waste and without form; and ...\n",
       "2       1001003   1   1   3  And God said, Let there be light: and there wa...\n",
       "3       1001004   1   1   4  And God, looking on the light, saw that it was...\n",
       "4       1001005   1   1   5  Naming the light, Day, and the dark, Night. An...\n",
       "...         ...  ..  ..  ..                                                ...\n",
       "31098  66022017  66  22  17  And the Spirit and the bride say, Come. And le...\n",
       "31099  66022018  66  22  18  For I say to every man to whose ears have come...\n",
       "31100  66022019  66  22  19  And if any man takes away from the words of th...\n",
       "31101  66022020  66  22  20  He who gives witness to these things says, Tru...\n",
       "31102  66022021  66  22  21  The grace of the Lord Jesus be with the saints...\n",
       "\n",
       "[31103 rows x 5 columns]"
      ]
     },
     "execution_count": 120,
     "metadata": {},
     "output_type": "execute_result"
    }
   ],
   "source": [
    "corpus"
   ]
  },
  {
   "cell_type": "code",
   "execution_count": 121,
   "metadata": {},
   "outputs": [
    {
     "data": {
      "text/plain": [
       "(31103, 5)"
      ]
     },
     "execution_count": 121,
     "metadata": {},
     "output_type": "execute_result"
    }
   ],
   "source": [
    "corpus.shape"
   ]
  },
  {
   "cell_type": "code",
   "execution_count": 122,
   "metadata": {},
   "outputs": [
    {
     "name": "stdout",
     "output_type": "stream",
     "text": [
      "Done\n"
     ]
    }
   ],
   "source": [
    "sentence_vector = []\n",
    "for x in corpus['t'].values:\n",
    "    sentence_vector.append(web_ds(x).vector)\n",
    "sentence_vector = np.stack(sentence_vector, axis=0)\n",
    "sentence_vector.shape\n",
    "print('Done')"
   ]
  },
  {
   "cell_type": "code",
   "execution_count": 123,
   "metadata": {},
   "outputs": [
    {
     "data": {
      "text/plain": [
       "array([[ 3.3944538 , -0.5095218 , -0.18593895, ..., -0.34198827,\n",
       "         0.13227865, -0.252717  ],\n",
       "       [ 3.3399315 , -0.5886822 , -0.33994052, ...,  0.01141333,\n",
       "         0.0452466 , -0.22600707],\n",
       "       [ 3.3220842 ,  0.17710806,  0.30751628, ..., -0.28480628,\n",
       "         0.143422  , -0.27126887],\n",
       "       ...,\n",
       "       [ 3.4870605 , -0.16540068, -0.20667109, ...,  0.01269931,\n",
       "        -0.06816281,  0.02178019],\n",
       "       [ 3.3578353 ,  0.6200461 ,  0.54105127, ..., -0.17045516,\n",
       "         0.06506193, -0.27891764],\n",
       "       [ 3.3242064 , -0.12360739, -0.21462248, ..., -0.24642944,\n",
       "         0.32052413, -0.337034  ]], dtype=float32)"
      ]
     },
     "execution_count": 123,
     "metadata": {},
     "output_type": "execute_result"
    }
   ],
   "source": [
    "svd = TruncatedSVD(n_components=10)\n",
    "svd_sentences = svd.fit_transform(sentence_vector)\n",
    "svd_sentences"
   ]
  },
  {
   "cell_type": "code",
   "execution_count": 124,
   "metadata": {},
   "outputs": [
    {
     "data": {
      "text/plain": [
       "300      1.000000\n",
       "13699    0.999027\n",
       "8209     0.997915\n",
       "8201     0.997443\n",
       "18799    0.997313\n",
       "Name: 300, dtype: float32"
      ]
     },
     "execution_count": 124,
     "metadata": {},
     "output_type": "execute_result"
    }
   ],
   "source": [
    "sim = cosine_similarity(svd_sentences, svd_sentences)\n",
    "pd.DataFrame(sim)[300].sort_values(ascending=False)[:5]"
   ]
  },
  {
   "cell_type": "code",
   "execution_count": null,
   "metadata": {},
   "outputs": [],
   "source": [
    "print(corpus['t'][300], end=\"\\n\\n\")\n",
    "print(corpus['t'][1455])"
   ]
  },
  {
   "cell_type": "code",
   "execution_count": null,
   "metadata": {},
   "outputs": [],
   "source": [
    "my_sentence_vec = np.stack([web_ds(\"\").vector])\n",
    "sentence_vector = np.append(sentence_vector, my_sentence_vec, axis=0)\n",
    "sentence_vector.shape"
   ]
  },
  {
   "cell_type": "code",
   "execution_count": null,
   "metadata": {},
   "outputs": [],
   "source": [
    "svd_sentences = svd.fit_transform(sentence_vector)\n",
    "cos_sim = cosine_similarity(svd_sentences, svd_sentences)\n",
    "pd.DataFrame(cos_sim)[2001].sort_values(ascending=False)[:5]"
   ]
  },
  {
   "cell_type": "code",
   "execution_count": null,
   "metadata": {},
   "outputs": [],
   "source": [
    "print(corpus['t'][1938])"
   ]
  },
  {
   "cell_type": "code",
   "execution_count": null,
   "metadata": {},
   "outputs": [],
   "source": []
  }
 ],
 "metadata": {
  "kernelspec": {
   "display_name": "Python 3",
   "language": "python",
   "name": "python3"
  },
  "language_info": {
   "codemirror_mode": {
    "name": "ipython",
    "version": 3
   },
   "file_extension": ".py",
   "mimetype": "text/x-python",
   "name": "python",
   "nbconvert_exporter": "python",
   "pygments_lexer": "ipython3",
   "version": "3.9.0"
  }
 },
 "nbformat": 4,
 "nbformat_minor": 4
}
